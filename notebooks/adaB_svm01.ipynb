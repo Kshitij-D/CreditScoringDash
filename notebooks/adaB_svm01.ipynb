{
 "cells": [
  {
   "cell_type": "code",
   "execution_count": 1,
   "metadata": {},
   "outputs": [],
   "source": [
    "import numpy as np\n",
    "from sklearn.svm import SVC\n",
    "svc=SVC(probability=True, kernel='linear')\n",
    "import pandas as pd\n",
    "import matplotlib.pyplot as pyplot\n",
    "import seaborn as sns\n",
    "from sklearn.model_selection import train_test_split\n",
    "from sklearn.ensemble import AdaBoostClassifier\n",
    "from sklearn.metrics import accuracy_score, confusion_matrix, classification_report, roc_curve, roc_auc_score\n",
    "%matplotlib inline"
   ]
  },
  {
   "cell_type": "code",
   "execution_count": 2,
   "metadata": {},
   "outputs": [
    {
     "data": {
      "text/plain": [
       "0    383\n",
       "1    307\n",
       "Name: 14, dtype: int64"
      ]
     },
     "execution_count": 2,
     "metadata": {},
     "output_type": "execute_result"
    }
   ],
   "source": [
    "#Reading In The Data\n",
    "df = pd.read_table(\"../data/australian.csv\", sep='\\s+', header=None)\n",
    "\n",
    "#15th colums is class attribute\n",
    "\n",
    "y = df[14]\n",
    "X = df.drop(columns = 14)\n",
    "y.value_counts()"
   ]
  },
  {
   "cell_type": "code",
   "execution_count": 9,
   "metadata": {},
   "outputs": [],
   "source": [
    "# Split features and target into train and test sets\n",
    "X_train, X_test, y_train, y_test = train_test_split(X, y, random_state=1, stratify=y, test_size = 0.8)"
   ]
  },
  {
   "cell_type": "code",
   "execution_count": 10,
   "metadata": {},
   "outputs": [
    {
     "data": {
      "text/plain": [
       "AdaBoostClassifier(algorithm='SAMME.R',\n",
       "                   base_estimator=SVC(C=1.0, break_ties=False, cache_size=200,\n",
       "                                      class_weight=None, coef0=0.0,\n",
       "                                      decision_function_shape='ovr', degree=3,\n",
       "                                      gamma='scale', kernel='linear',\n",
       "                                      max_iter=-1, probability=True,\n",
       "                                      random_state=None, shrinking=True,\n",
       "                                      tol=0.001, verbose=False),\n",
       "                   learning_rate=1.0, n_estimators=50, random_state=1)"
      ]
     },
     "execution_count": 10,
     "metadata": {},
     "output_type": "execute_result"
    }
   ],
   "source": [
    "#Training with base classifier as svm\n",
    "adaB = AdaBoostClassifier(random_state=1, base_estimator=svc)\n",
    "adaB.fit(X_train, y_train)"
   ]
  },
  {
   "cell_type": "code",
   "execution_count": 11,
   "metadata": {},
   "outputs": [
    {
     "name": "stdout",
     "output_type": "stream",
     "text": [
      "              precision    recall  f1-score   support\n",
      "\n",
      "           0       0.59      0.99      0.74       306\n",
      "           1       0.93      0.15      0.26       246\n",
      "\n",
      "    accuracy                           0.62       552\n",
      "   macro avg       0.76      0.57      0.50       552\n",
      "weighted avg       0.74      0.62      0.53       552\n",
      "\n",
      "RandF: ROC AUC=0.886\n"
     ]
    },
    {
     "data": {
      "image/png": "[encoded data removed]",
      "text/plain": [
       "<Figure size 432x288 with 1 Axes>"
      ]
     },
     "metadata": {
      "needs_background": "light"
     },
     "output_type": "display_data"
    }
   ],
   "source": [
    "# Make predictions for the test set\n",
    "y_pred_test = adaB.predict(X_test)\n",
    "\n",
    "\n",
    "# View accuracy score\n",
    "accuracy_score(y_test, y_pred_test, normalize=True)\n",
    "print(classification_report(y_test, y_pred_test))\n",
    "\n",
    "adaB_probs = adaB.predict_proba(X_test)\n",
    "# keep probabilities for the positive outcome only\n",
    "adaB_probs = adaB_probs[:, 1]\n",
    "# calculate scores\n",
    "adaB_auc = roc_auc_score(y_test, adaB_probs)\n",
    "# summarize scores\n",
    "print('RandF: ROC AUC=%.3f' % (adaB_auc))\n",
    "# calculate roc curves\n",
    "adaB_fpr, adaB_tpr, _ = roc_curve(y_test, adaB_probs)\n",
    "\n",
    "# plot the roc curve for the model\n",
    "pyplot.plot(adaB_fpr, adaB_tpr, marker='.', label='AdaB_DT')\n",
    "# axis labels\n",
    "pyplot.xlabel('False Positive Rate')\n",
    "pyplot.ylabel('True Positive Rate')\n",
    "# show the legend\n",
    "pyplot.legend()\n",
    "# show the plot\n",
    "pyplot.show()"
   ]
  },
  {
   "cell_type": "code",
   "execution_count": null,
   "metadata": {},
   "outputs": [],
   "source": []
  }
 ],
 "metadata": {
  "kernelspec": {
   "display_name": "Python 3",
   "language": "python",
   "name": "python3"
  },
  "language_info": {
   "codemirror_mode": {
    "name": "ipython",
    "version": 3
   },
   "file_extension": ".py",
   "mimetype": "text/x-python",
   "name": "python",
   "nbconvert_exporter": "python",
   "pygments_lexer": "ipython3",
   "version": "3.7.6"
  }
 },
 "nbformat": 4,
 "nbformat_minor": 4
}
